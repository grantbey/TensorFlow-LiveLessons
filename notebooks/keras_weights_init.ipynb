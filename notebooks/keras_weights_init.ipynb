{
 "cells": [
  {
   "cell_type": "markdown",
   "metadata": {},
   "source": [
    "# First TensorFlow Neurons"
   ]
  },
  {
   "cell_type": "markdown",
   "metadata": {},
   "source": [
    "#### Load dependencies"
   ]
  },
  {
   "cell_type": "code",
   "execution_count": 17,
   "metadata": {},
   "outputs": [],
   "source": [
    "import numpy as np\n",
    "np.random.seed(42)\n",
    "\n",
    "from keras.models import Sequential\n",
    "from keras.layers import Dense, Activation\n",
    "from keras.optimizers import SGD\n",
    "from keras.initializers import RandomUniform, Zeros, RandomNormal\n",
    "\n",
    "import matplotlib.pyplot as plt\n",
    "%matplotlib inline"
   ]
  },
  {
   "cell_type": "markdown",
   "metadata": {},
   "source": [
    "#### Set number of neurons"
   ]
  },
  {
   "cell_type": "code",
   "execution_count": 2,
   "metadata": {},
   "outputs": [],
   "source": [
    "n_input = 784\n",
    "n_dense = 128"
   ]
  },
  {
   "cell_type": "markdown",
   "metadata": {},
   "source": [
    "#### Define the model"
   ]
  },
  {
   "cell_type": "code",
   "execution_count": 19,
   "metadata": {},
   "outputs": [],
   "source": [
    "model = Sequential()\n",
    "model.add(Dense(128, input_dim=784,kernel_initializer=RandomNormal(stddev=1.0),bias_initializer=Zeros()))\n",
    "model.add(Activation('sigmoid'))"
   ]
  },
  {
   "cell_type": "markdown",
   "metadata": {},
   "source": [
    "#### Generate random x values"
   ]
  },
  {
   "cell_type": "code",
   "execution_count": 20,
   "metadata": {},
   "outputs": [],
   "source": [
    "x = np.random.random((1,n_input))"
   ]
  },
  {
   "cell_type": "markdown",
   "metadata": {},
   "source": [
    "#### Run the model"
   ]
  },
  {
   "cell_type": "code",
   "execution_count": 22,
   "metadata": {},
   "outputs": [],
   "source": [
    "layer_output = model.predict(x)"
   ]
  },
  {
   "cell_type": "code",
   "execution_count": 23,
   "metadata": {},
   "outputs": [
    {
     "data": {
      "text/plain": [
       "array([[9.9999988e-01, 9.9992502e-01, 9.9905568e-01, 9.9991941e-01,\n",
       "        1.0000000e+00, 9.9719429e-01, 8.9996366e-10, 2.2531409e-10,\n",
       "        9.9999928e-01, 6.2850818e-06, 1.0000000e+00, 5.3026432e-01,\n",
       "        7.7889492e-03, 1.0000000e+00, 2.0839757e-08, 6.9073908e-06,\n",
       "        1.0000000e+00, 9.9973136e-01, 1.0000000e+00, 8.1688004e-06,\n",
       "        9.7308695e-01, 1.0000000e+00, 1.0000000e+00, 1.8533087e-01,\n",
       "        1.0000000e+00, 7.9308206e-01, 2.2910181e-12, 9.9992609e-01,\n",
       "        1.9780119e-12, 1.0797634e-08, 9.9196205e-13, 1.6630688e-04,\n",
       "        1.0304973e-04, 1.3737888e-03, 1.0000000e+00, 9.9785727e-01,\n",
       "        9.9994361e-01, 1.0935466e-07, 4.9802726e-03, 5.5947565e-03,\n",
       "        6.8807620e-01, 3.8178056e-04, 1.0000000e+00, 3.7754182e-07,\n",
       "        1.0000000e+00, 8.6618364e-01, 9.6111864e-01, 2.0277828e-03,\n",
       "        9.9999976e-01, 1.0032873e-01, 7.2030737e-03, 1.7494249e-06,\n",
       "        2.0229088e-07, 8.5868227e-01, 1.0688308e-01, 3.6507352e-06,\n",
       "        1.5937350e-05, 1.0000000e+00, 7.7258409e-03, 2.6955524e-01,\n",
       "        9.4189972e-01, 1.0696928e-11, 9.9998105e-01, 7.4628579e-09,\n",
       "        6.9437534e-01, 9.9999940e-01, 1.0000000e+00, 1.0000000e+00,\n",
       "        1.0000000e+00, 9.1717581e-08, 2.5512290e-03, 9.5808542e-01,\n",
       "        1.9814371e-08, 9.9042058e-01, 6.1787653e-01, 9.9999952e-01,\n",
       "        6.7115026e-05, 9.2374533e-01, 2.9129568e-01, 9.4660038e-01,\n",
       "        9.9981922e-01, 9.9947363e-01, 3.4540266e-04, 1.0000000e+00,\n",
       "        1.0000000e+00, 2.1746389e-16, 6.7562290e-08, 9.9904829e-01,\n",
       "        1.6606707e-02, 2.6042738e-14, 9.8641990e-11, 2.7464037e-22,\n",
       "        1.0000000e+00, 1.0000000e+00, 9.9938953e-01, 7.4869168e-01,\n",
       "        9.9822241e-01, 2.9863057e-01, 3.4588113e-01, 1.1266173e-04,\n",
       "        3.4881126e-05, 1.8962970e-04, 2.7298598e-05, 1.0000000e+00,\n",
       "        1.0000000e+00, 3.6867030e-02, 7.9292816e-01, 1.8686535e-05,\n",
       "        1.0000000e+00, 1.0000000e+00, 1.0000000e+00, 8.9440084e-01,\n",
       "        2.1258660e-02, 4.4683054e-01, 2.8375951e-05, 9.9999976e-01,\n",
       "        9.9999988e-01, 9.7237253e-01, 1.0000000e+00, 9.9999976e-01,\n",
       "        9.9622285e-01, 2.4611288e-01, 7.3143697e-01, 1.1368099e-03,\n",
       "        4.7755027e-08, 1.0000000e+00, 9.9818254e-01, 6.5815382e-02]],\n",
       "      dtype=float32)"
      ]
     },
     "execution_count": 23,
     "metadata": {},
     "output_type": "execute_result"
    }
   ],
   "source": [
    "layer_output"
   ]
  },
  {
   "cell_type": "code",
   "execution_count": 24,
   "metadata": {},
   "outputs": [
    {
     "data": {
      "image/png": "[encoded data removed]",
      "text/plain": [
       "<matplotlib.figure.Figure at 0x7f07bb921400>"
      ]
     },
     "metadata": {},
     "output_type": "display_data"
    }
   ],
   "source": [
    "_ = plt.hist(np.transpose(layer_output))"
   ]
  }
 ],
 "metadata": {
  "kernelspec": {
   "display_name": "Python 3",
   "language": "python",
   "name": "python3"
  },
  "language_info": {
   "codemirror_mode": {
    "name": "ipython",
    "version": 3
   },
   "file_extension": ".py",
   "mimetype": "text/x-python",
   "name": "python",
   "nbconvert_exporter": "python",
   "pygments_lexer": "ipython3",
   "version": "3.6.5"
  }
 },
 "nbformat": 4,
 "nbformat_minor": 2
}
